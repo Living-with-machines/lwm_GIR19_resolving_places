{
 "cells": [
  {
   "cell_type": "markdown",
   "metadata": {},
   "source": [
    "# GIR19 analysis: data preparation\n",
    "\n",
    "In order to reproduce the analysis in our GIR19 paper, you'll need to first prepare the data.\n",
    "\n",
    "**3 files** from three different sources are required to reproduce GIR19 figures:\n",
    "\n",
    "- **GB1900:** `gb1900_gazetteer_complete_july_2018.csv`\n",
    "- **WikiGazetteer:** `wikigazetteer.pkl`\n",
    "- **Annotated data:** `gold_standard.pkl`\n",
    "\n",
    "**Directory structure:**\n",
    "\n",
    "```\n",
    "├── GIR19_figs.ipynb\n",
    "├── files\n",
    "    ├── wikigazetteer.pkl\n",
    "    ├── gb1900_gazetteer_complete_july_2018.csv\n",
    "    └── gold_standard.pkl\n",
    "```\n",
    "\n",
    "The following steps will get your data ready to run the `GIR19_figs.ipynb` notebook."
   ]
  },
  {
   "cell_type": "code",
   "execution_count": null,
   "metadata": {},
   "outputs": [],
   "source": [
    "import mysql.connector\n",
    "from mysql.connector import Error\n",
    "import pandas as pd"
   ]
  },
  {
   "cell_type": "markdown",
   "metadata": {},
   "source": [
    "## Annotated data\n",
    "\n",
    "Dataframe containing 950 manually-annotated locations from 100 articles for the period between 1820 and 1870  that have been randomly subsampled from the following newspaper titles:\n",
    "* _The Dorchester and Sherborne Journal, and Western Advertiser_ (Dorchester, Dorset)\n",
    "* _Dorset County Chronicle_ (Dorchester, Dorset)\n",
    "* _The Poole and South-Western Herald_ (Poole, Dorset)\n",
    "* _Poole and Bournemouth Herald_ (Poole, Dorset)\n",
    "\n",
    "The dataframe contains the following information for all instances of locations in the subsampled data:\n",
    "* Wikipedia id (`wiki_id` in WikiGazetteer)\n",
    "* Wikipedia title (`wiki_title` in WikiGazetteer)\n",
    "* Wikipedia lat (`wiki_lat` in WikiGazetteer)\n",
    "* Wikipedia lon (`wiki_lon` in WikiGazetteer)"
   ]
  },
  {
   "cell_type": "code",
   "execution_count": null,
   "metadata": {},
   "outputs": [],
   "source": [
    "gsdf = pd.read_pickle(\"files/annotated_places.pkl\")\n",
    "gsdf.head()"
   ]
  },
  {
   "cell_type": "markdown",
   "metadata": {},
   "source": [
    "## GB1900\n",
    "\n",
    "GB1900 (citation below) is a crowdsourced transcription of text labels on a late nineteenth-century edition of Ordnance Survey (OS) maps of Britain. The GB1900 Complete Gazetteer dataset includes ca. 2.55 million named and unnamed features (e.g. any text label).\n",
    "\n",
    "> Humphrey Southall and Paula Aucott. 2019. Locating Past Places in Britain: Creating and evaluating the GB1900 Gazetteer. International Journal of Humanities & Arts Computing 13, 2 (2019), 1–8.\n",
    "\n",
    "Download GB1900 from http://www.visionofbritain.org.uk/data/ (\"complete GB1900 gazetteer\"). Store it in the `files/` folder. The version we used was `gb1900_gazetteer_complete_july_2018.csv`."
   ]
  },
  {
   "cell_type": "code",
   "execution_count": null,
   "metadata": {},
   "outputs": [],
   "source": [
    "with open(\"files/gb1900_gazetteer_complete_july_2018.csv\", encoding='UTF-16') as f:\n",
    "    df = pd.read_csv(f)\n",
    "df.head()"
   ]
  },
  {
   "cell_type": "markdown",
   "metadata": {},
   "source": [
    "## WikiGazetteer\n",
    "\n",
    "Gazetteer based on Wikipedia and enhanced with information from Geonames. Make sure you have followed the instructions to build it in https://github.com/alan-turing-institute/lwm_GIR19_resolving_places/blob/master/gazetteer_construction/README.md.\n",
    "\n",
    "### Start MySQL connection\n",
    "\n",
    "Before running, make sure you've changed your credentials in order to connect to the database:"
   ]
  },
  {
   "cell_type": "code",
   "execution_count": null,
   "metadata": {},
   "outputs": [],
   "source": [
    "gazDB = \"\"\n",
    "cursorGaz = \"\"\n",
    "try:\n",
    "    gazDB = mysql.connector.connect(\n",
    "            host='localhost',\n",
    "            database='wikiGazetteer',\n",
    "            user='xxxxxxxx',\n",
    "            password='xxxxxxx')\n",
    "    if gazDB.is_connected():\n",
    "        cursorGaz = gazDB.cursor(dictionary=True)\n",
    "except Error as e:\n",
    "    print(\"Error while connecting to MySQL\", e)"
   ]
  },
  {
   "cell_type": "markdown",
   "metadata": {},
   "source": [
    "### Create dataframe from gazetteer\n",
    "\n",
    "The dataframe contains the following information for all locations in WikiGazetteer:\n",
    "* Wikipedia id (`wiki_id` in WikiGazetteer)\n",
    "* Wikipedia title (`wiki_title` in WikiGazetteer)\n",
    "* Wikipedia lat (`wiki_lat` in WikiGazetteer)\n",
    "* Wikipedia lon (`wiki_lon` in WikiGazetteer)"
   ]
  },
  {
   "cell_type": "code",
   "execution_count": null,
   "metadata": {},
   "outputs": [],
   "source": [
    "def find_locations(cursorGaz):\n",
    "\n",
    "    cursorGaz.execute(\"\"\"\n",
    "            SELECT id, wiki_title, lat, lon FROM location\n",
    "        \"\"\")\n",
    "    results = cursorGaz.fetchall()\n",
    "    \n",
    "    wiki_id = []\n",
    "    wiki_title = []\n",
    "    wiki_lat = []\n",
    "    wiki_lon = []\n",
    "    for r in results:\n",
    "        wiki_id.append(r['id'])\n",
    "        wiki_title.append(r['wiki_title'])\n",
    "        wiki_lat.append(r['lat'])\n",
    "        wiki_lon.append(r['lon'])\n",
    "\n",
    "    df = pd.DataFrame(\n",
    "        {'wiki_id' : wiki_id,\n",
    "         'wiki_title': wiki_title,\n",
    "         'wiki_lat': wiki_lat,\n",
    "         'wiki_lon': wiki_lon\n",
    "        })\n",
    "    return df"
   ]
  },
  {
   "cell_type": "code",
   "execution_count": null,
   "metadata": {},
   "outputs": [],
   "source": [
    "wikidf = find_locations(cursorGaz)\n",
    "wikidf.head()"
   ]
  },
  {
   "cell_type": "code",
   "execution_count": null,
   "metadata": {},
   "outputs": [],
   "source": [
    "wikidf.to_pickle(\"files/wikigazetteer.pkl\")"
   ]
  },
  {
   "cell_type": "markdown",
   "metadata": {},
   "source": [
    "### Close MySQL connection"
   ]
  },
  {
   "cell_type": "code",
   "execution_count": null,
   "metadata": {},
   "outputs": [],
   "source": [
    "if (gazDB.is_connected()):\n",
    "    cursorGaz.close()\n",
    "    gazDB.close()"
   ]
  },
  {
   "cell_type": "code",
   "execution_count": null,
   "metadata": {},
   "outputs": [],
   "source": []
  }
 ],
 "metadata": {
  "kernelspec": {
   "display_name": "Python [conda env:py37]",
   "language": "python",
   "name": "conda-env-py37-py"
  },
  "language_info": {
   "codemirror_mode": {
    "name": "ipython",
    "version": 3
   },
   "file_extension": ".py",
   "mimetype": "text/x-python",
   "name": "python",
   "nbconvert_exporter": "python",
   "pygments_lexer": "ipython3",
   "version": "3.7.3"
  }
 },
 "nbformat": 4,
 "nbformat_minor": 2
}
